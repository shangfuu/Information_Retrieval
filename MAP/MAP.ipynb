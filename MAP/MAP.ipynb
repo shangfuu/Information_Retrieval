{
 "cells": [
  {
   "cell_type": "markdown",
   "metadata": {},
   "source": [
    "# MAP\n",
    "\n",
    "http://nlp.csie.ntust.edu.tw:2020/problem/IR%20hw3"
   ]
  },
  {
   "cell_type": "code",
   "execution_count": 5,
   "metadata": {},
   "outputs": [
    {
     "name": "stdout",
     "output_type": "stream",
     "text": [
      "2\n",
      "123\n",
      "132\n",
      "123\n",
      "123\n",
      "1.7377300262451172\n",
      "0.5\n"
     ]
    }
   ],
   "source": [
    "N_Query = int(input())\n",
    "\n",
    "MAP = 0\n",
    "\n",
    "for _ in range(N_Query):\n",
    "    doc_ans = input().split()\n",
    "    doc_rel = input().split()\n",
    "    \n",
    "    rel_n = 0\n",
    "    p = 0\n",
    "    for i in range(len(doc_ans)):\n",
    "        if doc_ans[i] in doc_rel:\n",
    "            rel_n += 1\n",
    "            p += rel_n / (i + 1)\n",
    "    \n",
    "    MAP += p / len(doc_rel)\n",
    "\n",
    "MAP /= N_Query\n",
    "\n",
    "print(round(MAP, 4))"
   ]
  }
 ],
 "metadata": {
  "kernelspec": {
   "display_name": "IR",
   "language": "python",
   "name": "ir"
  }
 },
 "nbformat": 4,
 "nbformat_minor": 4
}
